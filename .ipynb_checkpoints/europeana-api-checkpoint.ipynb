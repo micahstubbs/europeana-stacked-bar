{
 "metadata": {
  "name": "",
  "signature": "sha256:08ea849270a538e53f903d9f83cf01c70a720eeec40a53d7ece087e75e6795fe"
 },
 "nbformat": 3,
 "nbformat_minor": 0,
 "worksheets": [
  {
   "cells": [
    {
     "cell_type": "code",
     "collapsed": false,
     "input": [
      "import urllib2\n",
      "import json\n",
      "import csv\n",
      "\n",
      "apikey = \"api2demo\" # your API key here\n",
      "\n",
      "languages = [\"de\", \"nl\", \"mul\", \"es\", \"en\", \"it\", \"sv\", \"no\", \"pl\", \"da\", \"hu\", \"cs\", \"el\", \"et\", \"pt\", \"sl\", \"fi\", \"lv\", \"ca\", \"lt\", \"sk\", \"bg\", \"swe\", \"ru\", \"ro\", \"sr\", \"tr\", \"hr\", \"mt\", \"yi\", \"is\", \"ga\", \"uk\", \"fr\"]\n",
      "media_types = [\"IMAGE\", \"TEXT\", \"SOUND\", \"VIDEO\", \"3D\"]"
     ],
     "language": "python",
     "metadata": {},
     "outputs": []
    },
    {
     "cell_type": "code",
     "collapsed": false,
     "input": [
      "file = open('media_type_by_language.csv', 'w');\n",
      "writer = csv.writer(file)\n",
      "    \n",
      "headers = [\"language\",\"IMAGE\", \"TEXT\", \"SOUND\", \"VIDEO\", \"3D\" ]\n",
      "writer.writerow(headers)\n",
      "\n",
      "for language_code in languages:\n",
      "    \n",
      "    record = [language_code]\n",
      "    \n",
      "    for media_type in media_types:\n",
      "        \n",
      "        query = '''*:*'''\n",
      "        url = \"http://www.europeana.eu/api/v2/search.json?wskey=\" + apikey + \"&query=\" + query + \"&qf=LANGUAGE:\" + language_code + \"&qf=TYPE:\" + media_type\n",
      "        \n",
      "        req = urllib2.Request(url)\n",
      "        response = urllib2.urlopen(req)\n",
      "        the_page = response.read()\n",
      "        \n",
      "        data = json.loads(the_page)\n",
      "        \n",
      "        record.append(data[\"totalResults\"])\n",
      "\n",
      "    print record\n",
      "    writer.writerow(record)\n",
      "        \n",
      "file.close()        \n",
      "        "
     ],
     "language": "python",
     "metadata": {},
     "outputs": []
    },
    {
     "cell_type": "code",
     "collapsed": false,
     "input": [],
     "language": "python",
     "metadata": {},
     "outputs": []
    }
   ],
   "metadata": {}
  }
 ]
}