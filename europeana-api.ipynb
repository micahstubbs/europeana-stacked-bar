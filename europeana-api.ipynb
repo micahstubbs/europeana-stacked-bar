{
 "metadata": {
  "name": "",
  "signature": "sha256:4712837b20ce6a14955ec7fb6c3d88798209e462bacb5f2da67ecf99f9624aa1"
 },
 "nbformat": 3,
 "nbformat_minor": 0,
 "worksheets": [
  {
   "cells": [
    {
     "cell_type": "code",
     "collapsed": false,
     "input": [
      "import urllib2\n",
      "import json\n",
      "import csv\n",
      "\n",
      "apikey = \"api2demo\" # your API key here\n",
      "\n",
      "languages = [\"de\", \"nl\", \"mul\", \"es\", \"en\", \"it\", \"sv\", \"no\", \"pl\", \"da\", \"hu\", \"cs\", \"el\", \"et\", \"pt\", \"sl\", \"fi\", \"lv\", \"ca\", \"lt\", \"sk\", \"bg\", \"swe\", \"ru\", \"ro\", \"sr\", \"tr\", \"hr\", \"mt\", \"yi\", \"is\", \"ga\", \"uk\", \"fr\"]\n",
      "media_types = [\"IMAGE\", \"TEXT\", \"SOUND\", \"VIDEO\", \"3D\"]"
     ],
     "language": "python",
     "metadata": {},
     "outputs": [],
     "prompt_number": 1
    },
    {
     "cell_type": "code",
     "collapsed": false,
     "input": [
      "file = open('media_type_by_language.csv', 'w');\n",
      "writer = csv.writer(file)\n",
      "    \n",
      "headers = [\"language\",\"IMAGE\", \"TEXT\", \"SOUND\", \"VIDEO\", \"3D\" ]\n",
      "writer.writerow(headers)\n",
      "\n",
      "for language_code in languages:\n",
      "    \n",
      "    record = [language_code]\n",
      "    \n",
      "    for media_type in media_types:\n",
      "        \n",
      "        query = '''*:*'''\n",
      "        url = \"http://www.europeana.eu/api/v2/search.json?wskey=\" + apikey + \"&query=\" + query + \"&qf=LANGUAGE:\" + language_code + \"&qf=TYPE:\" + media_type\n",
      "        \n",
      "        req = urllib2.Request(url)\n",
      "        response = urllib2.urlopen(req)\n",
      "        the_page = response.read()\n",
      "        \n",
      "        data = json.loads(the_page)\n",
      "        \n",
      "        record.append(data[\"totalResults\"])\n",
      "\n",
      "    print record\n",
      "    writer.writerow(record)\n",
      "        \n",
      "file.close()        \n",
      "        "
     ],
     "language": "python",
     "metadata": {},
     "outputs": [
      {
       "output_type": "stream",
       "stream": "stdout",
       "text": [
        "['de', 2729318, 1731125, 28560, 7539, 13743]\n",
        "['nl', 3231126, 365145, 4310, 6265, 0]"
       ]
      },
      {
       "output_type": "stream",
       "stream": "stdout",
       "text": [
        "\n",
        "['mul', 1019620, 817270, 351023, 45834, 456]"
       ]
      },
      {
       "output_type": "stream",
       "stream": "stdout",
       "text": [
        "\n",
        "['es', 517132, 2252343, 2979, 11200, 216]"
       ]
      },
      {
       "output_type": "stream",
       "stream": "stdout",
       "text": [
        "\n",
        "['en', 2205019, 523269, 4466, 5169, 182]"
       ]
      },
      {
       "output_type": "stream",
       "stream": "stdout",
       "text": [
        "\n",
        "['it', 1942620, 655226, 31914, 27589, 383]"
       ]
      },
      {
       "output_type": "stream",
       "stream": "stdout",
       "text": [
        "\n",
        "['sv', 1567744, 1542649, 405, 4700, 0]"
       ]
      },
      {
       "output_type": "stream",
       "stream": "stdout",
       "text": [
        "\n",
        "['no', 1658447, 2807, 653, 1326, 86]"
       ]
      },
      {
       "output_type": "stream",
       "stream": "stdout",
       "text": [
        "\n",
        "['pl', 285783, 1452410, 331, 2221, 35]"
       ]
      },
      {
       "output_type": "stream",
       "stream": "stdout",
       "text": [
        "\n",
        "['da', 426527, 321905, 2, 4957, 0]"
       ]
      },
      {
       "output_type": "stream",
       "stream": "stdout",
       "text": [
        "\n",
        "['hu', 343867, 247428, 446, 5799, 97]"
       ]
      },
      {
       "output_type": "stream",
       "stream": "stdout",
       "text": [
        "\n",
        "['cs', 209764, 13674, 0, 154815, 0]"
       ]
      },
      {
       "output_type": "stream",
       "stream": "stdout",
       "text": [
        "\n",
        "['el', 118893, 153883, 881, 4676, 376]"
       ]
      },
      {
       "output_type": "stream",
       "stream": "stdout",
       "text": [
        "\n",
        "['et', 229196, 48553, 16014, 5453, 0]"
       ]
      },
      {
       "output_type": "stream",
       "stream": "stdout",
       "text": [
        "\n",
        "['pt', 166197, 68046, 479, 367, 0]"
       ]
      },
      {
       "output_type": "stream",
       "stream": "stdout",
       "text": [
        "\n",
        "['sl', 113355, 121067, 163, 3136, 285]"
       ]
      },
      {
       "output_type": "stream",
       "stream": "stdout",
       "text": [
        "\n",
        "['fi', 101333, 42774, 494, 699, 0]"
       ]
      },
      {
       "output_type": "stream",
       "stream": "stdout",
       "text": [
        "\n",
        "['lv', 61667, 69775, 0, 105, 0]"
       ]
      },
      {
       "output_type": "stream",
       "stream": "stdout",
       "text": [
        "\n",
        "['ca', 200047, 1607, 0, 105, 334]"
       ]
      },
      {
       "output_type": "stream",
       "stream": "stdout",
       "text": [
        "\n",
        "['lt', 90373, 28660, 0, 12, 0]"
       ]
      },
      {
       "output_type": "stream",
       "stream": "stdout",
       "text": [
        "\n",
        "['sk', 92066, 2435, 0, 0, 0]"
       ]
      },
      {
       "output_type": "stream",
       "stream": "stdout",
       "text": [
        "\n",
        "['bg', 32534, 12136, 13738, 8, 0]"
       ]
      },
      {
       "output_type": "stream",
       "stream": "stdout",
       "text": [
        "\n",
        "['swe', 0, 0, 0, 0, 0]"
       ]
      },
      {
       "output_type": "stream",
       "stream": "stdout",
       "text": [
        "\n",
        "['ru', 44217, 15823, 29, 6, 0]"
       ]
      },
      {
       "output_type": "stream",
       "stream": "stdout",
       "text": [
        "\n",
        "['ro', 60993, 8433, 140, 3882, 60]"
       ]
      },
      {
       "output_type": "stream",
       "stream": "stdout",
       "text": [
        "\n",
        "['sr', 2400, 51041, 599, 0, 0]"
       ]
      },
      {
       "output_type": "stream",
       "stream": "stdout",
       "text": [
        "\n",
        "['tr', 0, 47275, 0, 0, 0]"
       ]
      },
      {
       "output_type": "stream",
       "stream": "stdout",
       "text": [
        "\n",
        "['hr', 5147, 6769, 3, 6, 138]"
       ]
      },
      {
       "output_type": "stream",
       "stream": "stdout",
       "text": [
        "\n",
        "['mt', 7218, 0, 0, 0, 0]"
       ]
      },
      {
       "output_type": "stream",
       "stream": "stdout",
       "text": [
        "\n",
        "['yi', 0, 6789, 0, 0, 0]"
       ]
      },
      {
       "output_type": "stream",
       "stream": "stdout",
       "text": [
        "\n",
        "['is', 4018, 80, 0, 0, 0]"
       ]
      },
      {
       "output_type": "stream",
       "stream": "stdout",
       "text": [
        "\n",
        "['ga', 1, 6, 10, 13, 0]"
       ]
      },
      {
       "output_type": "stream",
       "stream": "stdout",
       "text": [
        "\n",
        "['uk', 2, 23, 0, 0, 0]"
       ]
      },
      {
       "output_type": "stream",
       "stream": "stdout",
       "text": [
        "\n",
        "['fr', 2020397, 1834767, 23766, 111759, 221]"
       ]
      },
      {
       "output_type": "stream",
       "stream": "stdout",
       "text": [
        "\n"
       ]
      }
     ],
     "prompt_number": 2
    },
    {
     "cell_type": "code",
     "collapsed": false,
     "input": [],
     "language": "python",
     "metadata": {},
     "outputs": []
    }
   ],
   "metadata": {}
  }
 ]
}